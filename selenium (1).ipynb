{
 "cells": [
  {
   "cell_type": "code",
   "execution_count": 1,
   "metadata": {},
   "outputs": [
    {
     "name": "stdout",
     "output_type": "stream",
     "text": [
      "Requirement already satisfied: sqlalchemy in c:\\users\\franc\\appdata\\local\\packages\\pythonsoftwarefoundation.python.3.11_qbz5n2kfra8p0\\localcache\\local-packages\\python311\\site-packages (2.0.30)\n",
      "Requirement already satisfied: typing-extensions>=4.6.0 in c:\\users\\franc\\appdata\\local\\packages\\pythonsoftwarefoundation.python.3.11_qbz5n2kfra8p0\\localcache\\local-packages\\python311\\site-packages (from sqlalchemy) (4.11.0)\n",
      "Requirement already satisfied: greenlet!=0.4.17 in c:\\users\\franc\\appdata\\local\\packages\\pythonsoftwarefoundation.python.3.11_qbz5n2kfra8p0\\localcache\\local-packages\\python311\\site-packages (from sqlalchemy) (3.0.3)\n",
      "Note: you may need to restart the kernel to use updated packages.\n"
     ]
    }
   ],
   "source": [
    "pip install sqlalchemy"
   ]
  },
  {
   "cell_type": "code",
   "execution_count": 2,
   "metadata": {},
   "outputs": [
    {
     "name": "stdout",
     "output_type": "stream",
     "text": [
      "Requirement already satisfied: selenium in c:\\users\\franc\\appdata\\local\\packages\\pythonsoftwarefoundation.python.3.11_qbz5n2kfra8p0\\localcache\\local-packages\\python311\\site-packages (4.20.0)\n",
      "Requirement already satisfied: urllib3<3,>=1.26 in c:\\users\\franc\\appdata\\local\\packages\\pythonsoftwarefoundation.python.3.11_qbz5n2kfra8p0\\localcache\\local-packages\\python311\\site-packages (from urllib3[socks]<3,>=1.26->selenium) (2.2.1)\n",
      "Requirement already satisfied: trio~=0.17 in c:\\users\\franc\\appdata\\local\\packages\\pythonsoftwarefoundation.python.3.11_qbz5n2kfra8p0\\localcache\\local-packages\\python311\\site-packages (from selenium) (0.25.0)\n",
      "Requirement already satisfied: trio-websocket~=0.9 in c:\\users\\franc\\appdata\\local\\packages\\pythonsoftwarefoundation.python.3.11_qbz5n2kfra8p0\\localcache\\local-packages\\python311\\site-packages (from selenium) (0.11.1)\n",
      "Requirement already satisfied: certifi>=2021.10.8 in c:\\users\\franc\\appdata\\local\\packages\\pythonsoftwarefoundation.python.3.11_qbz5n2kfra8p0\\localcache\\local-packages\\python311\\site-packages (from selenium) (2024.2.2)\n",
      "Requirement already satisfied: typing_extensions>=4.9.0 in c:\\users\\franc\\appdata\\local\\packages\\pythonsoftwarefoundation.python.3.11_qbz5n2kfra8p0\\localcache\\local-packages\\python311\\site-packages (from selenium) (4.11.0)\n",
      "Requirement already satisfied: attrs>=23.2.0 in c:\\users\\franc\\appdata\\local\\packages\\pythonsoftwarefoundation.python.3.11_qbz5n2kfra8p0\\localcache\\local-packages\\python311\\site-packages (from trio~=0.17->selenium) (23.2.0)\n",
      "Requirement already satisfied: sortedcontainers in c:\\users\\franc\\appdata\\local\\packages\\pythonsoftwarefoundation.python.3.11_qbz5n2kfra8p0\\localcache\\local-packages\\python311\\site-packages (from trio~=0.17->selenium) (2.4.0)\n",
      "Requirement already satisfied: idna in c:\\users\\franc\\appdata\\local\\packages\\pythonsoftwarefoundation.python.3.11_qbz5n2kfra8p0\\localcache\\local-packages\\python311\\site-packages (from trio~=0.17->selenium) (3.7)\n",
      "Requirement already satisfied: outcome in c:\\users\\franc\\appdata\\local\\packages\\pythonsoftwarefoundation.python.3.11_qbz5n2kfra8p0\\localcache\\local-packages\\python311\\site-packages (from trio~=0.17->selenium) (1.3.0.post0)\n",
      "Requirement already satisfied: sniffio>=1.3.0 in c:\\users\\franc\\appdata\\local\\packages\\pythonsoftwarefoundation.python.3.11_qbz5n2kfra8p0\\localcache\\local-packages\\python311\\site-packages (from trio~=0.17->selenium) (1.3.1)\n",
      "Requirement already satisfied: cffi>=1.14 in c:\\users\\franc\\appdata\\local\\packages\\pythonsoftwarefoundation.python.3.11_qbz5n2kfra8p0\\localcache\\local-packages\\python311\\site-packages (from trio~=0.17->selenium) (1.16.0)\n",
      "Requirement already satisfied: wsproto>=0.14 in c:\\users\\franc\\appdata\\local\\packages\\pythonsoftwarefoundation.python.3.11_qbz5n2kfra8p0\\localcache\\local-packages\\python311\\site-packages (from trio-websocket~=0.9->selenium) (1.2.0)\n",
      "Requirement already satisfied: pysocks!=1.5.7,<2.0,>=1.5.6 in c:\\users\\franc\\appdata\\local\\packages\\pythonsoftwarefoundation.python.3.11_qbz5n2kfra8p0\\localcache\\local-packages\\python311\\site-packages (from urllib3[socks]<3,>=1.26->selenium) (1.7.1)\n",
      "Requirement already satisfied: pycparser in c:\\users\\franc\\appdata\\local\\packages\\pythonsoftwarefoundation.python.3.11_qbz5n2kfra8p0\\localcache\\local-packages\\python311\\site-packages (from cffi>=1.14->trio~=0.17->selenium) (2.22)\n",
      "Requirement already satisfied: h11<1,>=0.9.0 in c:\\users\\franc\\appdata\\local\\packages\\pythonsoftwarefoundation.python.3.11_qbz5n2kfra8p0\\localcache\\local-packages\\python311\\site-packages (from wsproto>=0.14->trio-websocket~=0.9->selenium) (0.14.0)\n",
      "Note: you may need to restart the kernel to use updated packages.\n"
     ]
    }
   ],
   "source": [
    "pip install selenium"
   ]
  },
  {
   "cell_type": "code",
   "execution_count": 3,
   "metadata": {},
   "outputs": [
    {
     "name": "stdout",
     "output_type": "stream",
     "text": [
      "Requirement already satisfied: pandas in c:\\users\\franc\\appdata\\local\\packages\\pythonsoftwarefoundation.python.3.11_qbz5n2kfra8p0\\localcache\\local-packages\\python311\\site-packages (2.2.2)\n",
      "Requirement already satisfied: numpy>=1.23.2 in c:\\users\\franc\\appdata\\local\\packages\\pythonsoftwarefoundation.python.3.11_qbz5n2kfra8p0\\localcache\\local-packages\\python311\\site-packages (from pandas) (1.26.4)\n",
      "Requirement already satisfied: python-dateutil>=2.8.2 in c:\\users\\franc\\appdata\\local\\packages\\pythonsoftwarefoundation.python.3.11_qbz5n2kfra8p0\\localcache\\local-packages\\python311\\site-packages (from pandas) (2.9.0.post0)\n",
      "Requirement already satisfied: pytz>=2020.1 in c:\\users\\franc\\appdata\\local\\packages\\pythonsoftwarefoundation.python.3.11_qbz5n2kfra8p0\\localcache\\local-packages\\python311\\site-packages (from pandas) (2024.1)\n",
      "Requirement already satisfied: tzdata>=2022.7 in c:\\users\\franc\\appdata\\local\\packages\\pythonsoftwarefoundation.python.3.11_qbz5n2kfra8p0\\localcache\\local-packages\\python311\\site-packages (from pandas) (2024.1)\n",
      "Requirement already satisfied: six>=1.5 in c:\\users\\franc\\appdata\\local\\packages\\pythonsoftwarefoundation.python.3.11_qbz5n2kfra8p0\\localcache\\local-packages\\python311\\site-packages (from python-dateutil>=2.8.2->pandas) (1.16.0)\n",
      "Note: you may need to restart the kernel to use updated packages.\n"
     ]
    }
   ],
   "source": [
    "pip install pandas"
   ]
  },
  {
   "cell_type": "code",
   "execution_count": 4,
   "metadata": {},
   "outputs": [],
   "source": [
    "import pandas as pd\n",
    "from selenium import webdriver\n",
    "from selenium.webdriver.common.by  import By"
   ]
  },
  {
   "cell_type": "code",
   "execution_count": 5,
   "metadata": {},
   "outputs": [],
   "source": [
    "navegador = webdriver.Edge()"
   ]
  },
  {
   "cell_type": "code",
   "execution_count": 6,
   "metadata": {},
   "outputs": [],
   "source": [
    "navegador.get('https://pt.wikipedia.org/wiki/Lista_de_pa%C3%ADses_por_taxa_de_homic%C3%ADdio_intencional')"
   ]
  },
  {
   "cell_type": "code",
   "execution_count": 7,
   "metadata": {},
   "outputs": [],
   "source": [
    "#navegador.find_element(By.XPATH, '//*[@id=\":rh:\"]/li[2]/div/div/div/div[1]/div/div[3]/div/a/span').click()"
   ]
  },
  {
   "cell_type": "code",
   "execution_count": 8,
   "metadata": {},
   "outputs": [],
   "source": [
    "pais = navegador.find_element(By.XPATH,'//*[@id=\"mw-content-text\"]/div[1]/table[2]/tbody/tr[1]/td[1]/a').text\n",
    "taxa = navegador.find_element(By.XPATH,'//*[@id=\"mw-content-text\"]/div[1]/table[2]/tbody/tr[1]/td[2]').text\n",
    "total = navegador.find_element(By.XPATH,'//*[@id=\"mw-content-text\"]/div[1]/table[2]/tbody/tr[1]/td[3]').text\n",
    "regiao = navegador.find_element(By.XPATH,'//*[@id=\"mw-content-text\"]/div[1]/table[2]/tbody/tr[1]/td[4]').text\n",
    "sub_regiao = navegador.find_element(By.XPATH,'//*[@id=\"mw-content-text\"]/div[1]/table[2]/tbody/tr[1]/td[5]').text"
   ]
  },
  {
   "cell_type": "code",
   "execution_count": 9,
   "metadata": {},
   "outputs": [
    {
     "name": "stdout",
     "output_type": "stream",
     "text": [
      "Burundi\n",
      "4,03\n",
      "436\n",
      "África\n",
      "África Oriental\n"
     ]
    }
   ],
   "source": [
    "print(pais)\n",
    "print(taxa)\n",
    "print(total)\n",
    "print(regiao)\n",
    "print(sub_regiao)"
   ]
  },
  {
   "cell_type": "code",
   "execution_count": 10,
   "metadata": {},
   "outputs": [
    {
     "name": "stdout",
     "output_type": "stream",
     "text": [
      "['Burundi', 'Comores', 'Djibouti', 'Eritreia', 'Etiópia', 'Quénia', 'Madagascar', 'Malawi', 'Maurícia', 'Moçambique', 'Ruanda', 'Seicheles', 'Somália', 'Sudão do Sul', 'Uganda', 'Tanzânia', 'Zâmbia', 'Zimbabwe', 'Angola', 'Camarões', 'República Centro-Africana', 'Chade', 'Congo', 'República Democrática do Congo', 'Guiné Equatorial', 'São Tomé e Príncipe', 'Gabão', 'Argélia', 'Egito', 'Líbia', 'Marrocos', 'Sudão', 'Tunísia', 'Botswana', 'Lesoto', 'Namíbia', 'África do Sul', 'Eswatini', 'Benim', 'Burquina Fasso', 'Cabo Verde', 'Costa do Marfim', 'Gâmbia', 'Gana', 'Guiné', 'Guiné-Bissau', 'Libéria', 'Mali', 'Mauritânia', 'Níger', 'Nigéria', 'Senegal', 'Serra Leoa', 'Togo', 'Anguila', 'Antígua e Barbuda', 'Aruba', 'Bahamas', 'Barbados', 'Ilhas Virgens Britânicas', 'Ilhas Cayman', 'Cuba', 'Domínica', 'República Dominicana', 'Granada', 'Guadalupe', 'Haiti', 'Jamaica', 'Martinica', 'Montserrat', 'Porto Rico', 'São Cristóvão e Nevis', 'Santa Lúcia', 'São Vicente e Granadinas', 'Trinidad e Tobago', 'Ilhas Turks e Caicos', 'Ilhas Virgens Americanas', 'Belize', 'Costa Rica', 'El Salvador', 'Guatemala', 'Honduras', 'México', 'Nicarágua', 'Panamá', 'Bermudas', 'Canadá', 'Gronelândia', 'Estados Unidos', 'Argentina', 'Bolívia', 'Brasil', 'Chile', 'Colômbia', 'Equador', 'Guiana Francesa', 'Guiana', 'Paraguai', 'Peru', 'Suriname']\n"
     ]
    }
   ],
   "source": [
    "lista_vazia_pais = []\n",
    "for i in range(1, 101):\n",
    "    pais = navegador.find_element(By.XPATH, '//*[@id=\"mw-content-text\"]/div[1]/table[2]/tbody/tr['+str(i)+']/td[1]/a').text\n",
    "    lista_vazia_pais.append(pais)\n",
    "print(lista_vazia_pais)\n"
   ]
  },
  {
   "cell_type": "code",
   "execution_count": 11,
   "metadata": {},
   "outputs": [],
   "source": [
    "df = pd.DataFrame(lista_vazia_pais, columns=['pais'])"
   ]
  },
  {
   "cell_type": "code",
   "execution_count": 12,
   "metadata": {},
   "outputs": [
    {
     "name": "stdout",
     "output_type": "stream",
     "text": [
      "['4,03', '7,60', '6,77', '7,46', '7,60', '5,75', '0,62', '1,78', '2,71', '3,39', '4,51', '2,15', '5,56', '13,70', '11,84', '7,01', '5,85', '6,74', '9,65', '5,93', '13,09', '9,02', '10,88', '13,36', '3,21', '3,44', '9,0', '1,37', '3,23', '2,49', '1,05', '6,45', '3,05', '10,53', '38,00', '16,93', '46,60', '8,16', '6,01', '0,71', '8,84', '11,84', '9,07', '1,70', '8,46', '9,17', '3,22', '10,82', '10,22', '4,47', '32,15', '7,30', '1,92', '9,14', '27,66', '11,23', '3,94', '32,10', '15,00', '8,37', '14,74', '4,72', '8,40', '10,50', '7,52', '7,90', '10,04', '52,92', '2,78', '20,39', '15,86', '33,55', '39,00', '30,72', '39,40', '77,6', '52,64', '25,1', '11,77', '7,80', '17,30', '35,8', '25,21', '6.7', '11,38', '6,45', '2,12', '12,46', '6,84', '4,6', '12,40', '19,45', '4,60', '26,50', '8,23', '13,17', '16,58', '7,6', '7,16', '10,68']\n"
     ]
    }
   ],
   "source": [
    "lista_vazia_taxa = []\n",
    "for i in range(1, 101):\n",
    "    taxa = navegador.find_element(By.XPATH, '//*[@id=\"mw-content-text\"]/div[1]/table[2]/tbody/tr['+str(i)+']/td[2]').text\n",
    "    lista_vazia_taxa.append(taxa)\n",
    "print(lista_vazia_taxa)"
   ]
  },
  {
   "cell_type": "code",
   "execution_count": 13,
   "metadata": {},
   "outputs": [
    {
     "data": {
      "text/html": [
       "<div>\n",
       "<style scoped>\n",
       "    .dataframe tbody tr th:only-of-type {\n",
       "        vertical-align: middle;\n",
       "    }\n",
       "\n",
       "    .dataframe tbody tr th {\n",
       "        vertical-align: top;\n",
       "    }\n",
       "\n",
       "    .dataframe thead th {\n",
       "        text-align: right;\n",
       "    }\n",
       "</style>\n",
       "<table border=\"1\" class=\"dataframe\">\n",
       "  <thead>\n",
       "    <tr style=\"text-align: right;\">\n",
       "      <th></th>\n",
       "      <th>pais</th>\n",
       "      <th>taxa</th>\n",
       "    </tr>\n",
       "  </thead>\n",
       "  <tbody>\n",
       "    <tr>\n",
       "      <th>0</th>\n",
       "      <td>Burundi</td>\n",
       "      <td>4,03</td>\n",
       "    </tr>\n",
       "    <tr>\n",
       "      <th>1</th>\n",
       "      <td>Comores</td>\n",
       "      <td>7,60</td>\n",
       "    </tr>\n",
       "    <tr>\n",
       "      <th>2</th>\n",
       "      <td>Djibouti</td>\n",
       "      <td>6,77</td>\n",
       "    </tr>\n",
       "    <tr>\n",
       "      <th>3</th>\n",
       "      <td>Eritreia</td>\n",
       "      <td>7,46</td>\n",
       "    </tr>\n",
       "    <tr>\n",
       "      <th>4</th>\n",
       "      <td>Etiópia</td>\n",
       "      <td>7,60</td>\n",
       "    </tr>\n",
       "    <tr>\n",
       "      <th>...</th>\n",
       "      <td>...</td>\n",
       "      <td>...</td>\n",
       "    </tr>\n",
       "    <tr>\n",
       "      <th>95</th>\n",
       "      <td>Guiana Francesa</td>\n",
       "      <td>13,17</td>\n",
       "    </tr>\n",
       "    <tr>\n",
       "      <th>96</th>\n",
       "      <td>Guiana</td>\n",
       "      <td>16,58</td>\n",
       "    </tr>\n",
       "    <tr>\n",
       "      <th>97</th>\n",
       "      <td>Paraguai</td>\n",
       "      <td>7,6</td>\n",
       "    </tr>\n",
       "    <tr>\n",
       "      <th>98</th>\n",
       "      <td>Peru</td>\n",
       "      <td>7,16</td>\n",
       "    </tr>\n",
       "    <tr>\n",
       "      <th>99</th>\n",
       "      <td>Suriname</td>\n",
       "      <td>10,68</td>\n",
       "    </tr>\n",
       "  </tbody>\n",
       "</table>\n",
       "<p>100 rows × 2 columns</p>\n",
       "</div>"
      ],
      "text/plain": [
       "               pais   taxa\n",
       "0           Burundi   4,03\n",
       "1           Comores   7,60\n",
       "2          Djibouti   6,77\n",
       "3          Eritreia   7,46\n",
       "4           Etiópia   7,60\n",
       "..              ...    ...\n",
       "95  Guiana Francesa  13,17\n",
       "96           Guiana  16,58\n",
       "97         Paraguai    7,6\n",
       "98             Peru   7,16\n",
       "99         Suriname  10,68\n",
       "\n",
       "[100 rows x 2 columns]"
      ]
     },
     "execution_count": 13,
     "metadata": {},
     "output_type": "execute_result"
    }
   ],
   "source": [
    "df['taxa'] = lista_vazia_taxa\n",
    "df"
   ]
  },
  {
   "cell_type": "code",
   "execution_count": 14,
   "metadata": {},
   "outputs": [
    {
     "name": "stdout",
     "output_type": "stream",
     "text": [
      "['436', '60', '60', '390', '7552', '2648', '130', '279', '34', '849', '500', '2', '599 +', '1504', '4473', '3746', '814', '981', '2414', '1385', '642', '1266', '466', '10322', '27', '6', '155', '542', '2703', '156 +', '355', '2596 + +', '332', '220', '764', '388', '27272', '102', '654', '117', '46', '2688', '181', '423', '1067', '169', '135', '1905', '416', '788', '64201', '1105', '124', '668', '4', '10', '4', '128', '43', '2', '8', '534', '6', '1172', '8', '36', '1033', '1498', '11', '1', '584', '18', '70', '32', '605', '35', '56', '113', '566', '495', '3004', '3713', '30968 +', '460', '447', '4', '788', '7', '22941', '2092', '1270', '41069', '960', '12782 +', '1309', '30', '131', '512', '2247', '58']\n"
     ]
    }
   ],
   "source": [
    "lista_vazia_total = []\n",
    "for i in range(1, 101):\n",
    "    total = navegador.find_element(By.XPATH, '//*[@id=\"mw-content-text\"]/div[1]/table[2]/tbody/tr['+str(i)+']/td[3]').text\n",
    "    lista_vazia_total.append(total)\n",
    "print(lista_vazia_total)"
   ]
  },
  {
   "cell_type": "code",
   "execution_count": 15,
   "metadata": {},
   "outputs": [
    {
     "data": {
      "text/html": [
       "<div>\n",
       "<style scoped>\n",
       "    .dataframe tbody tr th:only-of-type {\n",
       "        vertical-align: middle;\n",
       "    }\n",
       "\n",
       "    .dataframe tbody tr th {\n",
       "        vertical-align: top;\n",
       "    }\n",
       "\n",
       "    .dataframe thead th {\n",
       "        text-align: right;\n",
       "    }\n",
       "</style>\n",
       "<table border=\"1\" class=\"dataframe\">\n",
       "  <thead>\n",
       "    <tr style=\"text-align: right;\">\n",
       "      <th></th>\n",
       "      <th>pais</th>\n",
       "      <th>taxa</th>\n",
       "      <th>total</th>\n",
       "    </tr>\n",
       "  </thead>\n",
       "  <tbody>\n",
       "    <tr>\n",
       "      <th>0</th>\n",
       "      <td>Burundi</td>\n",
       "      <td>4,03</td>\n",
       "      <td>436</td>\n",
       "    </tr>\n",
       "    <tr>\n",
       "      <th>1</th>\n",
       "      <td>Comores</td>\n",
       "      <td>7,60</td>\n",
       "      <td>60</td>\n",
       "    </tr>\n",
       "    <tr>\n",
       "      <th>2</th>\n",
       "      <td>Djibouti</td>\n",
       "      <td>6,77</td>\n",
       "      <td>60</td>\n",
       "    </tr>\n",
       "    <tr>\n",
       "      <th>3</th>\n",
       "      <td>Eritreia</td>\n",
       "      <td>7,46</td>\n",
       "      <td>390</td>\n",
       "    </tr>\n",
       "    <tr>\n",
       "      <th>4</th>\n",
       "      <td>Etiópia</td>\n",
       "      <td>7,60</td>\n",
       "      <td>7552</td>\n",
       "    </tr>\n",
       "    <tr>\n",
       "      <th>...</th>\n",
       "      <td>...</td>\n",
       "      <td>...</td>\n",
       "      <td>...</td>\n",
       "    </tr>\n",
       "    <tr>\n",
       "      <th>95</th>\n",
       "      <td>Guiana Francesa</td>\n",
       "      <td>13,17</td>\n",
       "      <td>30</td>\n",
       "    </tr>\n",
       "    <tr>\n",
       "      <th>96</th>\n",
       "      <td>Guiana</td>\n",
       "      <td>16,58</td>\n",
       "      <td>131</td>\n",
       "    </tr>\n",
       "    <tr>\n",
       "      <th>97</th>\n",
       "      <td>Paraguai</td>\n",
       "      <td>7,6</td>\n",
       "      <td>512</td>\n",
       "    </tr>\n",
       "    <tr>\n",
       "      <th>98</th>\n",
       "      <td>Peru</td>\n",
       "      <td>7,16</td>\n",
       "      <td>2247</td>\n",
       "    </tr>\n",
       "    <tr>\n",
       "      <th>99</th>\n",
       "      <td>Suriname</td>\n",
       "      <td>10,68</td>\n",
       "      <td>58</td>\n",
       "    </tr>\n",
       "  </tbody>\n",
       "</table>\n",
       "<p>100 rows × 3 columns</p>\n",
       "</div>"
      ],
      "text/plain": [
       "               pais   taxa total\n",
       "0           Burundi   4,03   436\n",
       "1           Comores   7,60    60\n",
       "2          Djibouti   6,77    60\n",
       "3          Eritreia   7,46   390\n",
       "4           Etiópia   7,60  7552\n",
       "..              ...    ...   ...\n",
       "95  Guiana Francesa  13,17    30\n",
       "96           Guiana  16,58   131\n",
       "97         Paraguai    7,6   512\n",
       "98             Peru   7,16  2247\n",
       "99         Suriname  10,68    58\n",
       "\n",
       "[100 rows x 3 columns]"
      ]
     },
     "execution_count": 15,
     "metadata": {},
     "output_type": "execute_result"
    }
   ],
   "source": [
    "df['total'] = lista_vazia_total\n",
    "df"
   ]
  },
  {
   "cell_type": "code",
   "execution_count": 16,
   "metadata": {},
   "outputs": [
    {
     "name": "stdout",
     "output_type": "stream",
     "text": [
      "['África', 'África', 'África', 'África', 'África', 'África', 'África', 'África', 'África', 'África', 'África', 'África', 'África', 'África', 'África', 'África', 'África', 'África', 'África', 'África', 'África', 'África', 'África', 'África', 'África', 'África', 'África', 'África', 'África', 'África', 'África', 'África', 'África', 'África', 'África', 'África', 'África', 'África', 'África', 'África', 'África', 'África', 'África', 'África', 'África', 'África', 'África', 'África', 'África', 'África', 'África', 'África', 'África', 'África', 'América', 'América', 'América', 'América', 'América', 'América', 'América', 'América', 'América', 'América', 'América', 'América', 'América', 'América', 'América', 'América', 'América', 'América', 'América', 'América', 'América', 'América', 'América', 'América', 'América', 'América', 'América', 'América', 'América', 'América', 'América', 'América', 'América', 'América', 'América', 'América', 'América', 'América', 'América', 'América', 'América', 'América', 'América', 'América', 'América', 'América']\n"
     ]
    }
   ],
   "source": [
    "lista_vazia_regiao = []\n",
    "for i in range(1, 101):\n",
    "    regiao = navegador.find_element(By.XPATH, '//*[@id=\"mw-content-text\"]/div[1]/table[2]/tbody/tr['+str(i)+']/td[4]').text\n",
    "    lista_vazia_regiao.append(regiao)\n",
    "print(lista_vazia_regiao)"
   ]
  },
  {
   "cell_type": "code",
   "execution_count": 17,
   "metadata": {},
   "outputs": [
    {
     "data": {
      "text/html": [
       "<div>\n",
       "<style scoped>\n",
       "    .dataframe tbody tr th:only-of-type {\n",
       "        vertical-align: middle;\n",
       "    }\n",
       "\n",
       "    .dataframe tbody tr th {\n",
       "        vertical-align: top;\n",
       "    }\n",
       "\n",
       "    .dataframe thead th {\n",
       "        text-align: right;\n",
       "    }\n",
       "</style>\n",
       "<table border=\"1\" class=\"dataframe\">\n",
       "  <thead>\n",
       "    <tr style=\"text-align: right;\">\n",
       "      <th></th>\n",
       "      <th>pais</th>\n",
       "      <th>taxa</th>\n",
       "      <th>total</th>\n",
       "      <th>regiao</th>\n",
       "    </tr>\n",
       "  </thead>\n",
       "  <tbody>\n",
       "    <tr>\n",
       "      <th>0</th>\n",
       "      <td>Burundi</td>\n",
       "      <td>4,03</td>\n",
       "      <td>436</td>\n",
       "      <td>África</td>\n",
       "    </tr>\n",
       "    <tr>\n",
       "      <th>1</th>\n",
       "      <td>Comores</td>\n",
       "      <td>7,60</td>\n",
       "      <td>60</td>\n",
       "      <td>África</td>\n",
       "    </tr>\n",
       "    <tr>\n",
       "      <th>2</th>\n",
       "      <td>Djibouti</td>\n",
       "      <td>6,77</td>\n",
       "      <td>60</td>\n",
       "      <td>África</td>\n",
       "    </tr>\n",
       "    <tr>\n",
       "      <th>3</th>\n",
       "      <td>Eritreia</td>\n",
       "      <td>7,46</td>\n",
       "      <td>390</td>\n",
       "      <td>África</td>\n",
       "    </tr>\n",
       "    <tr>\n",
       "      <th>4</th>\n",
       "      <td>Etiópia</td>\n",
       "      <td>7,60</td>\n",
       "      <td>7552</td>\n",
       "      <td>África</td>\n",
       "    </tr>\n",
       "    <tr>\n",
       "      <th>...</th>\n",
       "      <td>...</td>\n",
       "      <td>...</td>\n",
       "      <td>...</td>\n",
       "      <td>...</td>\n",
       "    </tr>\n",
       "    <tr>\n",
       "      <th>95</th>\n",
       "      <td>Guiana Francesa</td>\n",
       "      <td>13,17</td>\n",
       "      <td>30</td>\n",
       "      <td>América</td>\n",
       "    </tr>\n",
       "    <tr>\n",
       "      <th>96</th>\n",
       "      <td>Guiana</td>\n",
       "      <td>16,58</td>\n",
       "      <td>131</td>\n",
       "      <td>América</td>\n",
       "    </tr>\n",
       "    <tr>\n",
       "      <th>97</th>\n",
       "      <td>Paraguai</td>\n",
       "      <td>7,6</td>\n",
       "      <td>512</td>\n",
       "      <td>América</td>\n",
       "    </tr>\n",
       "    <tr>\n",
       "      <th>98</th>\n",
       "      <td>Peru</td>\n",
       "      <td>7,16</td>\n",
       "      <td>2247</td>\n",
       "      <td>América</td>\n",
       "    </tr>\n",
       "    <tr>\n",
       "      <th>99</th>\n",
       "      <td>Suriname</td>\n",
       "      <td>10,68</td>\n",
       "      <td>58</td>\n",
       "      <td>América</td>\n",
       "    </tr>\n",
       "  </tbody>\n",
       "</table>\n",
       "<p>100 rows × 4 columns</p>\n",
       "</div>"
      ],
      "text/plain": [
       "               pais   taxa total   regiao\n",
       "0           Burundi   4,03   436   África\n",
       "1           Comores   7,60    60   África\n",
       "2          Djibouti   6,77    60   África\n",
       "3          Eritreia   7,46   390   África\n",
       "4           Etiópia   7,60  7552   África\n",
       "..              ...    ...   ...      ...\n",
       "95  Guiana Francesa  13,17    30  América\n",
       "96           Guiana  16,58   131  América\n",
       "97         Paraguai    7,6   512  América\n",
       "98             Peru   7,16  2247  América\n",
       "99         Suriname  10,68    58  América\n",
       "\n",
       "[100 rows x 4 columns]"
      ]
     },
     "execution_count": 17,
     "metadata": {},
     "output_type": "execute_result"
    }
   ],
   "source": [
    "df['regiao'] = lista_vazia_regiao\n",
    "df"
   ]
  },
  {
   "cell_type": "code",
   "execution_count": 18,
   "metadata": {},
   "outputs": [
    {
     "name": "stdout",
     "output_type": "stream",
     "text": [
      "['África Oriental', 'África Oriental', 'África Oriental', 'África Oriental', 'África Oriental', 'África Oriental', 'África Oriental', 'África Oriental', 'África Oriental', 'África Oriental', 'África Oriental', 'África Oriental', 'África Oriental', 'África Oriental', 'África Oriental', 'África Oriental', 'África Oriental', 'África Oriental', 'África Central', 'África Central', 'África Central', 'África Central', 'África Central', 'África Central', 'África Central', 'África Central', 'África Central', 'África Setentrional', 'África Setentrional', 'África Setentrional', 'África Setentrional', 'África Setentrional', 'África Setentrional', 'África Austral', 'África Austral', 'África Austral', 'África Austral', 'África Austral', 'África Ocidental', 'África Ocidental', 'África Ocidental', 'África Ocidental', 'África Ocidental', 'África Ocidental', 'África Ocidental', 'África Ocidental', 'África Ocidental', 'África Ocidental', 'África Ocidental', 'África Ocidental', 'África Ocidental', 'África Ocidental', 'África Ocidental', 'África Ocidental', 'Caribe', 'Caribe', 'Caribe', 'Caribe', 'Caribe', 'Caribe', 'Caribe', 'Caribe', 'Caribe', 'Caribe', 'Caribe', 'Caribe', 'Caribe', 'Caribe', 'Caribe', 'Caribe', 'Caribe', 'Caribe', 'Caribe', 'Caribe', 'Caribe', 'Caribe', 'Caribe', 'América Central', 'América Central', 'América Central', 'América Central', 'América Central', 'América do Norte', 'América Central', 'América Central', 'América do Norte', 'América do Norte', 'América do Norte', 'América do Norte', 'América do Sul', 'América do Sul', 'América do Sul', 'América do Sul', 'América do Sul', 'América do Sul', 'América do Sul', 'América do Sul', 'América do Sul', 'América do Sul', 'América do Sul']\n"
     ]
    }
   ],
   "source": [
    "lista_vazia_sub_regiao = []\n",
    "for i in range(1, 101):\n",
    "    sub_regiao = navegador.find_element(By.XPATH, '//*[@id=\"mw-content-text\"]/div[1]/table[2]/tbody/tr['+str(i)+']/td[5]').text\n",
    "    lista_vazia_sub_regiao.append(sub_regiao)\n",
    "print(lista_vazia_sub_regiao)"
   ]
  },
  {
   "cell_type": "code",
   "execution_count": 19,
   "metadata": {},
   "outputs": [
    {
     "data": {
      "text/html": [
       "<div>\n",
       "<style scoped>\n",
       "    .dataframe tbody tr th:only-of-type {\n",
       "        vertical-align: middle;\n",
       "    }\n",
       "\n",
       "    .dataframe tbody tr th {\n",
       "        vertical-align: top;\n",
       "    }\n",
       "\n",
       "    .dataframe thead th {\n",
       "        text-align: right;\n",
       "    }\n",
       "</style>\n",
       "<table border=\"1\" class=\"dataframe\">\n",
       "  <thead>\n",
       "    <tr style=\"text-align: right;\">\n",
       "      <th></th>\n",
       "      <th>pais</th>\n",
       "      <th>taxa</th>\n",
       "      <th>total</th>\n",
       "      <th>regiao</th>\n",
       "      <th>sub_regiao</th>\n",
       "    </tr>\n",
       "  </thead>\n",
       "  <tbody>\n",
       "    <tr>\n",
       "      <th>0</th>\n",
       "      <td>Burundi</td>\n",
       "      <td>4,03</td>\n",
       "      <td>436</td>\n",
       "      <td>África</td>\n",
       "      <td>África Oriental</td>\n",
       "    </tr>\n",
       "    <tr>\n",
       "      <th>1</th>\n",
       "      <td>Comores</td>\n",
       "      <td>7,60</td>\n",
       "      <td>60</td>\n",
       "      <td>África</td>\n",
       "      <td>África Oriental</td>\n",
       "    </tr>\n",
       "    <tr>\n",
       "      <th>2</th>\n",
       "      <td>Djibouti</td>\n",
       "      <td>6,77</td>\n",
       "      <td>60</td>\n",
       "      <td>África</td>\n",
       "      <td>África Oriental</td>\n",
       "    </tr>\n",
       "    <tr>\n",
       "      <th>3</th>\n",
       "      <td>Eritreia</td>\n",
       "      <td>7,46</td>\n",
       "      <td>390</td>\n",
       "      <td>África</td>\n",
       "      <td>África Oriental</td>\n",
       "    </tr>\n",
       "    <tr>\n",
       "      <th>4</th>\n",
       "      <td>Etiópia</td>\n",
       "      <td>7,60</td>\n",
       "      <td>7552</td>\n",
       "      <td>África</td>\n",
       "      <td>África Oriental</td>\n",
       "    </tr>\n",
       "    <tr>\n",
       "      <th>...</th>\n",
       "      <td>...</td>\n",
       "      <td>...</td>\n",
       "      <td>...</td>\n",
       "      <td>...</td>\n",
       "      <td>...</td>\n",
       "    </tr>\n",
       "    <tr>\n",
       "      <th>95</th>\n",
       "      <td>Guiana Francesa</td>\n",
       "      <td>13,17</td>\n",
       "      <td>30</td>\n",
       "      <td>América</td>\n",
       "      <td>América do Sul</td>\n",
       "    </tr>\n",
       "    <tr>\n",
       "      <th>96</th>\n",
       "      <td>Guiana</td>\n",
       "      <td>16,58</td>\n",
       "      <td>131</td>\n",
       "      <td>América</td>\n",
       "      <td>América do Sul</td>\n",
       "    </tr>\n",
       "    <tr>\n",
       "      <th>97</th>\n",
       "      <td>Paraguai</td>\n",
       "      <td>7,6</td>\n",
       "      <td>512</td>\n",
       "      <td>América</td>\n",
       "      <td>América do Sul</td>\n",
       "    </tr>\n",
       "    <tr>\n",
       "      <th>98</th>\n",
       "      <td>Peru</td>\n",
       "      <td>7,16</td>\n",
       "      <td>2247</td>\n",
       "      <td>América</td>\n",
       "      <td>América do Sul</td>\n",
       "    </tr>\n",
       "    <tr>\n",
       "      <th>99</th>\n",
       "      <td>Suriname</td>\n",
       "      <td>10,68</td>\n",
       "      <td>58</td>\n",
       "      <td>América</td>\n",
       "      <td>América do Sul</td>\n",
       "    </tr>\n",
       "  </tbody>\n",
       "</table>\n",
       "<p>100 rows × 5 columns</p>\n",
       "</div>"
      ],
      "text/plain": [
       "               pais   taxa total   regiao       sub_regiao\n",
       "0           Burundi   4,03   436   África  África Oriental\n",
       "1           Comores   7,60    60   África  África Oriental\n",
       "2          Djibouti   6,77    60   África  África Oriental\n",
       "3          Eritreia   7,46   390   África  África Oriental\n",
       "4           Etiópia   7,60  7552   África  África Oriental\n",
       "..              ...    ...   ...      ...              ...\n",
       "95  Guiana Francesa  13,17    30  América   América do Sul\n",
       "96           Guiana  16,58   131  América   América do Sul\n",
       "97         Paraguai    7,6   512  América   América do Sul\n",
       "98             Peru   7,16  2247  América   América do Sul\n",
       "99         Suriname  10,68    58  América   América do Sul\n",
       "\n",
       "[100 rows x 5 columns]"
      ]
     },
     "execution_count": 19,
     "metadata": {},
     "output_type": "execute_result"
    }
   ],
   "source": [
    "df['sub_regiao'] = lista_vazia_sub_regiao\n",
    "df"
   ]
  },
  {
   "cell_type": "code",
   "execution_count": 20,
   "metadata": {},
   "outputs": [],
   "source": [
    "#salva na mesma pasta que o script esta\n",
    "#df.to_csv('dados_originais.csv', sep=';', index=False)\n",
    "#salva na pasta de origem\n",
    "df.to_csv('../0_bases_originais/dados_originais_taxa_de_homicídio_intencional.csv', sep=';', index=False, encoding= 'UTF-8')\n",
    "\n",
    "#salva em json\n",
    "df.to_json('../0_bases_originais/dados_originais_taxa_de_homicídio_intencional.json')"
   ]
  },
  {
   "cell_type": "code",
   "execution_count": 21,
   "metadata": {},
   "outputs": [
    {
     "data": {
      "text/plain": [
       "0      4.03\n",
       "1      7.60\n",
       "2      6.77\n",
       "3      7.46\n",
       "4      7.60\n",
       "      ...  \n",
       "95    13.17\n",
       "96    16.58\n",
       "97     7.60\n",
       "98     7.16\n",
       "99    10.68\n",
       "Name: taxa, Length: 100, dtype: float64"
      ]
     },
     "execution_count": 21,
     "metadata": {},
     "output_type": "execute_result"
    }
   ],
   "source": [
    "df['taxa'] = df['taxa'].str.replace(',','.')\n",
    "df['taxa'] = df['taxa'].astype(float)\n",
    "df['taxa']"
   ]
  },
  {
   "cell_type": "code",
   "execution_count": 22,
   "metadata": {},
   "outputs": [
    {
     "data": {
      "text/plain": [
       "0      436\n",
       "1       60\n",
       "2       60\n",
       "3      390\n",
       "4     7552\n",
       "      ... \n",
       "95      30\n",
       "96     131\n",
       "97     512\n",
       "98    2247\n",
       "99      58\n",
       "Name: total, Length: 100, dtype: int32"
      ]
     },
     "execution_count": 22,
     "metadata": {},
     "output_type": "execute_result"
    }
   ],
   "source": [
    "df['total'] = df['total'].str.replace(',','.').str.replace(' ','').str.replace('+','')\n",
    "df['total'] = df['total'].astype(int)\n",
    "df['total']"
   ]
  },
  {
   "cell_type": "code",
   "execution_count": 23,
   "metadata": {},
   "outputs": [
    {
     "data": {
      "text/html": [
       "<div>\n",
       "<style scoped>\n",
       "    .dataframe tbody tr th:only-of-type {\n",
       "        vertical-align: middle;\n",
       "    }\n",
       "\n",
       "    .dataframe tbody tr th {\n",
       "        vertical-align: top;\n",
       "    }\n",
       "\n",
       "    .dataframe thead th {\n",
       "        text-align: right;\n",
       "    }\n",
       "</style>\n",
       "<table border=\"1\" class=\"dataframe\">\n",
       "  <thead>\n",
       "    <tr style=\"text-align: right;\">\n",
       "      <th></th>\n",
       "      <th>pais</th>\n",
       "      <th>taxa</th>\n",
       "      <th>total</th>\n",
       "      <th>regiao</th>\n",
       "      <th>sub_regiao</th>\n",
       "    </tr>\n",
       "  </thead>\n",
       "  <tbody>\n",
       "    <tr>\n",
       "      <th>0</th>\n",
       "      <td>Burundi</td>\n",
       "      <td>4.03</td>\n",
       "      <td>436</td>\n",
       "      <td>África</td>\n",
       "      <td>África Oriental</td>\n",
       "    </tr>\n",
       "    <tr>\n",
       "      <th>1</th>\n",
       "      <td>Comores</td>\n",
       "      <td>7.60</td>\n",
       "      <td>60</td>\n",
       "      <td>África</td>\n",
       "      <td>África Oriental</td>\n",
       "    </tr>\n",
       "    <tr>\n",
       "      <th>2</th>\n",
       "      <td>Djibouti</td>\n",
       "      <td>6.77</td>\n",
       "      <td>60</td>\n",
       "      <td>África</td>\n",
       "      <td>África Oriental</td>\n",
       "    </tr>\n",
       "    <tr>\n",
       "      <th>3</th>\n",
       "      <td>Eritreia</td>\n",
       "      <td>7.46</td>\n",
       "      <td>390</td>\n",
       "      <td>África</td>\n",
       "      <td>África Oriental</td>\n",
       "    </tr>\n",
       "    <tr>\n",
       "      <th>4</th>\n",
       "      <td>Etiópia</td>\n",
       "      <td>7.60</td>\n",
       "      <td>7552</td>\n",
       "      <td>África</td>\n",
       "      <td>África Oriental</td>\n",
       "    </tr>\n",
       "    <tr>\n",
       "      <th>...</th>\n",
       "      <td>...</td>\n",
       "      <td>...</td>\n",
       "      <td>...</td>\n",
       "      <td>...</td>\n",
       "      <td>...</td>\n",
       "    </tr>\n",
       "    <tr>\n",
       "      <th>95</th>\n",
       "      <td>Guiana Francesa</td>\n",
       "      <td>13.17</td>\n",
       "      <td>30</td>\n",
       "      <td>América</td>\n",
       "      <td>América do Sul</td>\n",
       "    </tr>\n",
       "    <tr>\n",
       "      <th>96</th>\n",
       "      <td>Guiana</td>\n",
       "      <td>16.58</td>\n",
       "      <td>131</td>\n",
       "      <td>América</td>\n",
       "      <td>América do Sul</td>\n",
       "    </tr>\n",
       "    <tr>\n",
       "      <th>97</th>\n",
       "      <td>Paraguai</td>\n",
       "      <td>7.60</td>\n",
       "      <td>512</td>\n",
       "      <td>América</td>\n",
       "      <td>América do Sul</td>\n",
       "    </tr>\n",
       "    <tr>\n",
       "      <th>98</th>\n",
       "      <td>Peru</td>\n",
       "      <td>7.16</td>\n",
       "      <td>2247</td>\n",
       "      <td>América</td>\n",
       "      <td>América do Sul</td>\n",
       "    </tr>\n",
       "    <tr>\n",
       "      <th>99</th>\n",
       "      <td>Suriname</td>\n",
       "      <td>10.68</td>\n",
       "      <td>58</td>\n",
       "      <td>América</td>\n",
       "      <td>América do Sul</td>\n",
       "    </tr>\n",
       "  </tbody>\n",
       "</table>\n",
       "<p>100 rows × 5 columns</p>\n",
       "</div>"
      ],
      "text/plain": [
       "               pais   taxa  total   regiao       sub_regiao\n",
       "0           Burundi   4.03    436   África  África Oriental\n",
       "1           Comores   7.60     60   África  África Oriental\n",
       "2          Djibouti   6.77     60   África  África Oriental\n",
       "3          Eritreia   7.46    390   África  África Oriental\n",
       "4           Etiópia   7.60   7552   África  África Oriental\n",
       "..              ...    ...    ...      ...              ...\n",
       "95  Guiana Francesa  13.17     30  América   América do Sul\n",
       "96           Guiana  16.58    131  América   América do Sul\n",
       "97         Paraguai   7.60    512  América   América do Sul\n",
       "98             Peru   7.16   2247  América   América do Sul\n",
       "99         Suriname  10.68     58  América   América do Sul\n",
       "\n",
       "[100 rows x 5 columns]"
      ]
     },
     "execution_count": 23,
     "metadata": {},
     "output_type": "execute_result"
    }
   ],
   "source": [
    "df"
   ]
  },
  {
   "cell_type": "code",
   "execution_count": 24,
   "metadata": {},
   "outputs": [],
   "source": [
    "#import plotly.express as px"
   ]
  },
  {
   "cell_type": "code",
   "execution_count": 25,
   "metadata": {},
   "outputs": [],
   "source": [
    "#px.histogram(data_frame=df, x='sub_regiao', y='taxa')"
   ]
  },
  {
   "cell_type": "code",
   "execution_count": 26,
   "metadata": {},
   "outputs": [],
   "source": [
    "#salva na mesma pasta que o script esta\n",
    "#df.to_csv('dados_originais.csv', sep=';', index=False)\n",
    "#salva na pasta de origem\n",
    "df.to_csv('../1_bases_tratadas/dados_tratadas_taxa_de_homicídio_intencional.csv', sep=';', index=False, encoding= 'UTF-8')\n",
    "\n",
    "#salva em json\n",
    "df.to_json('../1_bases_tratadas/dados_tratadas_taxa_de_homicídio_intencional.json')"
   ]
  },
  {
   "cell_type": "code",
   "execution_count": 27,
   "metadata": {},
   "outputs": [],
   "source": [
    "import sqlalchemy as sqa"
   ]
  },
  {
   "cell_type": "code",
   "execution_count": 28,
   "metadata": {},
   "outputs": [
    {
     "name": "stdout",
     "output_type": "stream",
     "text": [
      "2024-06-02 17:58:57,619 INFO sqlalchemy.engine.Engine BEGIN (implicit)\n",
      "2024-06-02 17:58:57,624 INFO sqlalchemy.engine.Engine PRAGMA main.table_info(\"nome_da_sua_tabela\")\n",
      "2024-06-02 17:58:57,625 INFO sqlalchemy.engine.Engine [raw sql] ()\n",
      "2024-06-02 17:58:57,629 INFO sqlalchemy.engine.Engine PRAGMA main.table_info(\"nome_da_sua_tabela\")\n",
      "2024-06-02 17:58:57,629 INFO sqlalchemy.engine.Engine [raw sql] ()\n",
      "2024-06-02 17:58:57,631 INFO sqlalchemy.engine.Engine SELECT name FROM sqlite_master WHERE type='table' AND name NOT LIKE 'sqlite~_%' ESCAPE '~' ORDER BY name\n",
      "2024-06-02 17:58:57,632 INFO sqlalchemy.engine.Engine [raw sql] ()\n",
      "2024-06-02 17:58:57,634 INFO sqlalchemy.engine.Engine SELECT name FROM sqlite_master WHERE type='view' AND name NOT LIKE 'sqlite~_%' ESCAPE '~' ORDER BY name\n",
      "2024-06-02 17:58:57,635 INFO sqlalchemy.engine.Engine [raw sql] ()\n",
      "2024-06-02 17:58:57,638 INFO sqlalchemy.engine.Engine PRAGMA main.table_xinfo(\"nome_da_sua_tabela\")\n",
      "2024-06-02 17:58:57,639 INFO sqlalchemy.engine.Engine [raw sql] ()\n",
      "2024-06-02 17:58:57,641 INFO sqlalchemy.engine.Engine SELECT sql FROM  (SELECT * FROM sqlite_master UNION ALL   SELECT * FROM sqlite_temp_master) WHERE name = ? AND type in ('table', 'view')\n",
      "2024-06-02 17:58:57,643 INFO sqlalchemy.engine.Engine [raw sql] ('nome_da_sua_tabela',)\n",
      "2024-06-02 17:58:57,645 INFO sqlalchemy.engine.Engine PRAGMA main.foreign_key_list(\"nome_da_sua_tabela\")\n",
      "2024-06-02 17:58:57,646 INFO sqlalchemy.engine.Engine [raw sql] ()\n",
      "2024-06-02 17:58:57,648 INFO sqlalchemy.engine.Engine PRAGMA temp.foreign_key_list(\"nome_da_sua_tabela\")\n",
      "2024-06-02 17:58:57,649 INFO sqlalchemy.engine.Engine [raw sql] ()\n",
      "2024-06-02 17:58:57,651 INFO sqlalchemy.engine.Engine SELECT sql FROM  (SELECT * FROM sqlite_master UNION ALL   SELECT * FROM sqlite_temp_master) WHERE name = ? AND type in ('table', 'view')\n",
      "2024-06-02 17:58:57,652 INFO sqlalchemy.engine.Engine [raw sql] ('nome_da_sua_tabela',)\n",
      "2024-06-02 17:58:57,655 INFO sqlalchemy.engine.Engine PRAGMA main.index_list(\"nome_da_sua_tabela\")\n",
      "2024-06-02 17:58:57,656 INFO sqlalchemy.engine.Engine [raw sql] ()\n",
      "2024-06-02 17:58:57,658 INFO sqlalchemy.engine.Engine PRAGMA temp.index_list(\"nome_da_sua_tabela\")\n",
      "2024-06-02 17:58:57,659 INFO sqlalchemy.engine.Engine [raw sql] ()\n",
      "2024-06-02 17:58:57,661 INFO sqlalchemy.engine.Engine PRAGMA main.table_info(\"nome_da_sua_tabela\")\n",
      "2024-06-02 17:58:57,662 INFO sqlalchemy.engine.Engine [raw sql] ()\n",
      "2024-06-02 17:58:57,664 INFO sqlalchemy.engine.Engine PRAGMA main.index_list(\"nome_da_sua_tabela\")\n",
      "2024-06-02 17:58:57,665 INFO sqlalchemy.engine.Engine [raw sql] ()\n",
      "2024-06-02 17:58:57,667 INFO sqlalchemy.engine.Engine PRAGMA temp.index_list(\"nome_da_sua_tabela\")\n",
      "2024-06-02 17:58:57,668 INFO sqlalchemy.engine.Engine [raw sql] ()\n",
      "2024-06-02 17:58:57,669 INFO sqlalchemy.engine.Engine PRAGMA main.table_info(\"nome_da_sua_tabela\")\n",
      "2024-06-02 17:58:57,670 INFO sqlalchemy.engine.Engine [raw sql] ()\n",
      "2024-06-02 17:58:57,671 INFO sqlalchemy.engine.Engine SELECT sql FROM  (SELECT * FROM sqlite_master UNION ALL   SELECT * FROM sqlite_temp_master) WHERE name = ? AND type in ('table', 'view')\n",
      "2024-06-02 17:58:57,673 INFO sqlalchemy.engine.Engine [raw sql] ('nome_da_sua_tabela',)\n",
      "2024-06-02 17:58:57,678 INFO sqlalchemy.engine.Engine \n",
      "DROP TABLE nome_da_sua_tabela\n",
      "2024-06-02 17:58:57,679 INFO sqlalchemy.engine.Engine [no key 0.00125s] ()\n",
      "2024-06-02 17:58:57,698 INFO sqlalchemy.engine.Engine \n",
      "CREATE TABLE nome_da_sua_tabela (\n",
      "\tpais TEXT, \n",
      "\ttaxa FLOAT, \n",
      "\ttotal INTEGER, \n",
      "\tregiao TEXT, \n",
      "\tsub_regiao TEXT\n",
      ")\n",
      "\n",
      "\n",
      "2024-06-02 17:58:57,699 INFO sqlalchemy.engine.Engine [no key 0.00110s] ()\n",
      "2024-06-02 17:58:57,711 INFO sqlalchemy.engine.Engine INSERT INTO nome_da_sua_tabela (pais, taxa, total, regiao, sub_regiao) VALUES (?, ?, ?, ?, ?)\n",
      "2024-06-02 17:58:57,712 INFO sqlalchemy.engine.Engine [generated in 0.00141s] [('Burundi', 4.03, 436, 'África', 'África Oriental'), ('Comores', 7.6, 60, 'África', 'África Oriental'), ('Djibouti', 6.77, 60, 'África', 'África Oriental'), ('Eritreia', 7.46, 390, 'África', 'África Oriental'), ('Etiópia', 7.6, 7552, 'África', 'África Oriental'), ('Quénia', 5.75, 2648, 'África', 'África Oriental'), ('Madagascar', 0.62, 130, 'África', 'África Oriental'), ('Malawi', 1.78, 279, 'África', 'África Oriental')  ... displaying 10 of 100 total bound parameter sets ...  ('Peru', 7.16, 2247, 'América', 'América do Sul'), ('Suriname', 10.68, 58, 'América', 'América do Sul')]\n",
      "2024-06-02 17:58:57,715 INFO sqlalchemy.engine.Engine COMMIT\n",
      "2024-06-02 17:58:57,724 INFO sqlalchemy.engine.Engine BEGIN (implicit)\n",
      "2024-06-02 17:58:57,725 INFO sqlalchemy.engine.Engine PRAGMA main.table_info(\"nome_da_sua_tabela\")\n",
      "2024-06-02 17:58:57,726 INFO sqlalchemy.engine.Engine [raw sql] ()\n",
      "2024-06-02 17:58:57,728 INFO sqlalchemy.engine.Engine SELECT name FROM sqlite_master WHERE type='table' AND name NOT LIKE 'sqlite~_%' ESCAPE '~' ORDER BY name\n",
      "2024-06-02 17:58:57,729 INFO sqlalchemy.engine.Engine [raw sql] ()\n",
      "2024-06-02 17:58:57,730 INFO sqlalchemy.engine.Engine SELECT name FROM sqlite_master WHERE type='view' AND name NOT LIKE 'sqlite~_%' ESCAPE '~' ORDER BY name\n",
      "2024-06-02 17:58:57,732 INFO sqlalchemy.engine.Engine [raw sql] ()\n",
      "2024-06-02 17:58:57,733 INFO sqlalchemy.engine.Engine PRAGMA main.table_xinfo(\"nome_da_sua_tabela\")\n",
      "2024-06-02 17:58:57,734 INFO sqlalchemy.engine.Engine [raw sql] ()\n",
      "2024-06-02 17:58:57,736 INFO sqlalchemy.engine.Engine SELECT sql FROM  (SELECT * FROM sqlite_master UNION ALL   SELECT * FROM sqlite_temp_master) WHERE name = ? AND type in ('table', 'view')\n",
      "2024-06-02 17:58:57,737 INFO sqlalchemy.engine.Engine [raw sql] ('nome_da_sua_tabela',)\n",
      "2024-06-02 17:58:57,739 INFO sqlalchemy.engine.Engine PRAGMA main.foreign_key_list(\"nome_da_sua_tabela\")\n",
      "2024-06-02 17:58:57,740 INFO sqlalchemy.engine.Engine [raw sql] ()\n",
      "2024-06-02 17:58:57,742 INFO sqlalchemy.engine.Engine PRAGMA temp.foreign_key_list(\"nome_da_sua_tabela\")\n",
      "2024-06-02 17:58:57,744 INFO sqlalchemy.engine.Engine [raw sql] ()\n",
      "2024-06-02 17:58:57,745 INFO sqlalchemy.engine.Engine SELECT sql FROM  (SELECT * FROM sqlite_master UNION ALL   SELECT * FROM sqlite_temp_master) WHERE name = ? AND type in ('table', 'view')\n",
      "2024-06-02 17:58:57,746 INFO sqlalchemy.engine.Engine [raw sql] ('nome_da_sua_tabela',)\n",
      "2024-06-02 17:58:57,748 INFO sqlalchemy.engine.Engine PRAGMA main.index_list(\"nome_da_sua_tabela\")\n",
      "2024-06-02 17:58:57,749 INFO sqlalchemy.engine.Engine [raw sql] ()\n",
      "2024-06-02 17:58:57,751 INFO sqlalchemy.engine.Engine PRAGMA temp.index_list(\"nome_da_sua_tabela\")\n",
      "2024-06-02 17:58:57,751 INFO sqlalchemy.engine.Engine [raw sql] ()\n",
      "2024-06-02 17:58:57,753 INFO sqlalchemy.engine.Engine PRAGMA main.table_info(\"nome_da_sua_tabela\")\n",
      "2024-06-02 17:58:57,754 INFO sqlalchemy.engine.Engine [raw sql] ()\n",
      "2024-06-02 17:58:57,755 INFO sqlalchemy.engine.Engine PRAGMA main.index_list(\"nome_da_sua_tabela\")\n",
      "2024-06-02 17:58:57,756 INFO sqlalchemy.engine.Engine [raw sql] ()\n",
      "2024-06-02 17:58:57,758 INFO sqlalchemy.engine.Engine PRAGMA temp.index_list(\"nome_da_sua_tabela\")\n",
      "2024-06-02 17:58:57,759 INFO sqlalchemy.engine.Engine [raw sql] ()\n",
      "2024-06-02 17:58:57,760 INFO sqlalchemy.engine.Engine PRAGMA main.table_info(\"nome_da_sua_tabela\")\n",
      "2024-06-02 17:58:57,761 INFO sqlalchemy.engine.Engine [raw sql] ()\n",
      "2024-06-02 17:58:57,763 INFO sqlalchemy.engine.Engine SELECT sql FROM  (SELECT * FROM sqlite_master UNION ALL   SELECT * FROM sqlite_temp_master) WHERE name = ? AND type in ('table', 'view')\n",
      "2024-06-02 17:58:57,765 INFO sqlalchemy.engine.Engine [raw sql] ('nome_da_sua_tabela',)\n",
      "2024-06-02 17:58:57,770 INFO sqlalchemy.engine.Engine SELECT nome_da_sua_tabela.pais, nome_da_sua_tabela.taxa, nome_da_sua_tabela.total, nome_da_sua_tabela.regiao, nome_da_sua_tabela.sub_regiao \n",
      "FROM nome_da_sua_tabela\n",
      "2024-06-02 17:58:57,771 INFO sqlalchemy.engine.Engine [generated in 0.00129s] ()\n",
      "               pais   taxa  total   regiao       sub_regiao\n",
      "0           Burundi   4.03    436   África  África Oriental\n",
      "1           Comores   7.60     60   África  África Oriental\n",
      "2          Djibouti   6.77     60   África  África Oriental\n",
      "3          Eritreia   7.46    390   África  África Oriental\n",
      "4           Etiópia   7.60   7552   África  África Oriental\n",
      "..              ...    ...    ...      ...              ...\n",
      "95  Guiana Francesa  13.17     30  América   América do Sul\n",
      "96           Guiana  16.58    131  América   América do Sul\n",
      "97         Paraguai   7.60    512  América   América do Sul\n",
      "98             Peru   7.16   2247  América   América do Sul\n",
      "99         Suriname  10.68     58  América   América do Sul\n",
      "\n",
      "[100 rows x 5 columns]\n"
     ]
    }
   ],
   "source": [
    "# Conectar ao banco de dados SQLite\n",
    "engine = sqa.create_engine(\"sqlite:///taxas.db\", echo=True)\n",
    "conn = engine.connect()\n",
    "\n",
    "# Escrever o DataFrame em uma tabela específica no banco de dados\n",
    "df.to_sql('nome_da_sua_tabela', con=conn, if_exists='replace', index=False)\n",
    "\n",
    "# Ler os dados da tabela recém-criada no banco de dados\n",
    "dados_do_banco = pd.read_sql('nome_da_sua_tabela', con=conn)\n",
    "\n",
    "# Exibir os dados lidos\n",
    "print(dados_do_banco)\n"
   ]
  },
  {
   "cell_type": "code",
   "execution_count": 29,
   "metadata": {},
   "outputs": [
    {
     "name": "stdout",
     "output_type": "stream",
     "text": [
      "Requirement already satisfied: streamlit in c:\\users\\franc\\appdata\\local\\packages\\pythonsoftwarefoundation.python.3.11_qbz5n2kfra8p0\\localcache\\local-packages\\python311\\site-packages (1.35.0)Note: you may need to restart the kernel to use updated packages.\n",
      "\n",
      "Requirement already satisfied: altair<6,>=4.0 in c:\\users\\franc\\appdata\\local\\packages\\pythonsoftwarefoundation.python.3.11_qbz5n2kfra8p0\\localcache\\local-packages\\python311\\site-packages (from streamlit) (5.3.0)\n",
      "Requirement already satisfied: blinker<2,>=1.0.0 in c:\\users\\franc\\appdata\\local\\packages\\pythonsoftwarefoundation.python.3.11_qbz5n2kfra8p0\\localcache\\local-packages\\python311\\site-packages (from streamlit) (1.8.2)\n",
      "Requirement already satisfied: cachetools<6,>=4.0 in c:\\users\\franc\\appdata\\local\\packages\\pythonsoftwarefoundation.python.3.11_qbz5n2kfra8p0\\localcache\\local-packages\\python311\\site-packages (from streamlit) (5.3.3)\n",
      "Requirement already satisfied: click<9,>=7.0 in c:\\users\\franc\\appdata\\local\\packages\\pythonsoftwarefoundation.python.3.11_qbz5n2kfra8p0\\localcache\\local-packages\\python311\\site-packages (from streamlit) (8.1.7)\n",
      "Requirement already satisfied: numpy<2,>=1.19.3 in c:\\users\\franc\\appdata\\local\\packages\\pythonsoftwarefoundation.python.3.11_qbz5n2kfra8p0\\localcache\\local-packages\\python311\\site-packages (from streamlit) (1.26.4)\n",
      "Requirement already satisfied: packaging<25,>=16.8 in c:\\users\\franc\\appdata\\local\\packages\\pythonsoftwarefoundation.python.3.11_qbz5n2kfra8p0\\localcache\\local-packages\\python311\\site-packages (from streamlit) (24.0)\n",
      "Requirement already satisfied: pandas<3,>=1.3.0 in c:\\users\\franc\\appdata\\local\\packages\\pythonsoftwarefoundation.python.3.11_qbz5n2kfra8p0\\localcache\\local-packages\\python311\\site-packages (from streamlit) (2.2.2)\n",
      "Requirement already satisfied: pillow<11,>=7.1.0 in c:\\users\\franc\\appdata\\local\\packages\\pythonsoftwarefoundation.python.3.11_qbz5n2kfra8p0\\localcache\\local-packages\\python311\\site-packages (from streamlit) (10.3.0)\n",
      "Requirement already satisfied: protobuf<5,>=3.20 in c:\\users\\franc\\appdata\\local\\packages\\pythonsoftwarefoundation.python.3.11_qbz5n2kfra8p0\\localcache\\local-packages\\python311\\site-packages (from streamlit) (4.25.3)\n",
      "Requirement already satisfied: pyarrow>=7.0 in c:\\users\\franc\\appdata\\local\\packages\\pythonsoftwarefoundation.python.3.11_qbz5n2kfra8p0\\localcache\\local-packages\\python311\\site-packages (from streamlit) (16.1.0)\n",
      "Requirement already satisfied: requests<3,>=2.27 in c:\\users\\franc\\appdata\\local\\packages\\pythonsoftwarefoundation.python.3.11_qbz5n2kfra8p0\\localcache\\local-packages\\python311\\site-packages (from streamlit) (2.32.2)\n",
      "Requirement already satisfied: rich<14,>=10.14.0 in c:\\users\\franc\\appdata\\local\\packages\\pythonsoftwarefoundation.python.3.11_qbz5n2kfra8p0\\localcache\\local-packages\\python311\\site-packages (from streamlit) (13.7.1)\n",
      "Requirement already satisfied: tenacity<9,>=8.1.0 in c:\\users\\franc\\appdata\\local\\packages\\pythonsoftwarefoundation.python.3.11_qbz5n2kfra8p0\\localcache\\local-packages\\python311\\site-packages (from streamlit) (8.3.0)\n",
      "Requirement already satisfied: toml<2,>=0.10.1 in c:\\users\\franc\\appdata\\local\\packages\\pythonsoftwarefoundation.python.3.11_qbz5n2kfra8p0\\localcache\\local-packages\\python311\\site-packages (from streamlit) (0.10.2)\n",
      "Requirement already satisfied: typing-extensions<5,>=4.3.0 in c:\\users\\franc\\appdata\\local\\packages\\pythonsoftwarefoundation.python.3.11_qbz5n2kfra8p0\\localcache\\local-packages\\python311\\site-packages (from streamlit) (4.11.0)\n",
      "Requirement already satisfied: gitpython!=3.1.19,<4,>=3.0.7 in c:\\users\\franc\\appdata\\local\\packages\\pythonsoftwarefoundation.python.3.11_qbz5n2kfra8p0\\localcache\\local-packages\\python311\\site-packages (from streamlit) (3.1.43)\n",
      "Requirement already satisfied: pydeck<1,>=0.8.0b4 in c:\\users\\franc\\appdata\\local\\packages\\pythonsoftwarefoundation.python.3.11_qbz5n2kfra8p0\\localcache\\local-packages\\python311\\site-packages (from streamlit) (0.9.1)\n",
      "Requirement already satisfied: tornado<7,>=6.0.3 in c:\\users\\franc\\appdata\\local\\packages\\pythonsoftwarefoundation.python.3.11_qbz5n2kfra8p0\\localcache\\local-packages\\python311\\site-packages (from streamlit) (6.4)\n",
      "Requirement already satisfied: watchdog>=2.1.5 in c:\\users\\franc\\appdata\\local\\packages\\pythonsoftwarefoundation.python.3.11_qbz5n2kfra8p0\\localcache\\local-packages\\python311\\site-packages (from streamlit) (4.0.1)\n",
      "Requirement already satisfied: jinja2 in c:\\users\\franc\\appdata\\local\\packages\\pythonsoftwarefoundation.python.3.11_qbz5n2kfra8p0\\localcache\\local-packages\\python311\\site-packages (from altair<6,>=4.0->streamlit) (3.1.4)\n",
      "Requirement already satisfied: jsonschema>=3.0 in c:\\users\\franc\\appdata\\local\\packages\\pythonsoftwarefoundation.python.3.11_qbz5n2kfra8p0\\localcache\\local-packages\\python311\\site-packages (from altair<6,>=4.0->streamlit) (4.22.0)\n",
      "Requirement already satisfied: toolz in c:\\users\\franc\\appdata\\local\\packages\\pythonsoftwarefoundation.python.3.11_qbz5n2kfra8p0\\localcache\\local-packages\\python311\\site-packages (from altair<6,>=4.0->streamlit) (0.12.1)\n",
      "Requirement already satisfied: colorama in c:\\users\\franc\\appdata\\local\\packages\\pythonsoftwarefoundation.python.3.11_qbz5n2kfra8p0\\localcache\\local-packages\\python311\\site-packages (from click<9,>=7.0->streamlit) (0.4.6)\n",
      "Requirement already satisfied: gitdb<5,>=4.0.1 in c:\\users\\franc\\appdata\\local\\packages\\pythonsoftwarefoundation.python.3.11_qbz5n2kfra8p0\\localcache\\local-packages\\python311\\site-packages (from gitpython!=3.1.19,<4,>=3.0.7->streamlit) (4.0.11)\n",
      "Requirement already satisfied: python-dateutil>=2.8.2 in c:\\users\\franc\\appdata\\local\\packages\\pythonsoftwarefoundation.python.3.11_qbz5n2kfra8p0\\localcache\\local-packages\\python311\\site-packages (from pandas<3,>=1.3.0->streamlit) (2.9.0.post0)\n",
      "Requirement already satisfied: pytz>=2020.1 in c:\\users\\franc\\appdata\\local\\packages\\pythonsoftwarefoundation.python.3.11_qbz5n2kfra8p0\\localcache\\local-packages\\python311\\site-packages (from pandas<3,>=1.3.0->streamlit) (2024.1)\n",
      "Requirement already satisfied: tzdata>=2022.7 in c:\\users\\franc\\appdata\\local\\packages\\pythonsoftwarefoundation.python.3.11_qbz5n2kfra8p0\\localcache\\local-packages\\python311\\site-packages (from pandas<3,>=1.3.0->streamlit) (2024.1)\n",
      "Requirement already satisfied: charset-normalizer<4,>=2 in c:\\users\\franc\\appdata\\local\\packages\\pythonsoftwarefoundation.python.3.11_qbz5n2kfra8p0\\localcache\\local-packages\\python311\\site-packages (from requests<3,>=2.27->streamlit) (3.3.2)\n",
      "Requirement already satisfied: idna<4,>=2.5 in c:\\users\\franc\\appdata\\local\\packages\\pythonsoftwarefoundation.python.3.11_qbz5n2kfra8p0\\localcache\\local-packages\\python311\\site-packages (from requests<3,>=2.27->streamlit) (3.7)\n",
      "Requirement already satisfied: urllib3<3,>=1.21.1 in c:\\users\\franc\\appdata\\local\\packages\\pythonsoftwarefoundation.python.3.11_qbz5n2kfra8p0\\localcache\\local-packages\\python311\\site-packages (from requests<3,>=2.27->streamlit) (2.2.1)\n",
      "Requirement already satisfied: certifi>=2017.4.17 in c:\\users\\franc\\appdata\\local\\packages\\pythonsoftwarefoundation.python.3.11_qbz5n2kfra8p0\\localcache\\local-packages\\python311\\site-packages (from requests<3,>=2.27->streamlit) (2024.2.2)\n",
      "Requirement already satisfied: markdown-it-py>=2.2.0 in c:\\users\\franc\\appdata\\local\\packages\\pythonsoftwarefoundation.python.3.11_qbz5n2kfra8p0\\localcache\\local-packages\\python311\\site-packages (from rich<14,>=10.14.0->streamlit) (3.0.0)\n",
      "Requirement already satisfied: pygments<3.0.0,>=2.13.0 in c:\\users\\franc\\appdata\\local\\packages\\pythonsoftwarefoundation.python.3.11_qbz5n2kfra8p0\\localcache\\local-packages\\python311\\site-packages (from rich<14,>=10.14.0->streamlit) (2.17.2)\n",
      "Requirement already satisfied: smmap<6,>=3.0.1 in c:\\users\\franc\\appdata\\local\\packages\\pythonsoftwarefoundation.python.3.11_qbz5n2kfra8p0\\localcache\\local-packages\\python311\\site-packages (from gitdb<5,>=4.0.1->gitpython!=3.1.19,<4,>=3.0.7->streamlit) (5.0.1)\n",
      "Requirement already satisfied: MarkupSafe>=2.0 in c:\\users\\franc\\appdata\\local\\packages\\pythonsoftwarefoundation.python.3.11_qbz5n2kfra8p0\\localcache\\local-packages\\python311\\site-packages (from jinja2->altair<6,>=4.0->streamlit) (2.1.5)\n",
      "Requirement already satisfied: attrs>=22.2.0 in c:\\users\\franc\\appdata\\local\\packages\\pythonsoftwarefoundation.python.3.11_qbz5n2kfra8p0\\localcache\\local-packages\\python311\\site-packages (from jsonschema>=3.0->altair<6,>=4.0->streamlit) (23.2.0)\n",
      "Requirement already satisfied: jsonschema-specifications>=2023.03.6 in c:\\users\\franc\\appdata\\local\\packages\\pythonsoftwarefoundation.python.3.11_qbz5n2kfra8p0\\localcache\\local-packages\\python311\\site-packages (from jsonschema>=3.0->altair<6,>=4.0->streamlit) (2023.12.1)\n",
      "Requirement already satisfied: referencing>=0.28.4 in c:\\users\\franc\\appdata\\local\\packages\\pythonsoftwarefoundation.python.3.11_qbz5n2kfra8p0\\localcache\\local-packages\\python311\\site-packages (from jsonschema>=3.0->altair<6,>=4.0->streamlit) (0.35.1)\n",
      "Requirement already satisfied: rpds-py>=0.7.1 in c:\\users\\franc\\appdata\\local\\packages\\pythonsoftwarefoundation.python.3.11_qbz5n2kfra8p0\\localcache\\local-packages\\python311\\site-packages (from jsonschema>=3.0->altair<6,>=4.0->streamlit) (0.18.1)\n",
      "Requirement already satisfied: mdurl~=0.1 in c:\\users\\franc\\appdata\\local\\packages\\pythonsoftwarefoundation.python.3.11_qbz5n2kfra8p0\\localcache\\local-packages\\python311\\site-packages (from markdown-it-py>=2.2.0->rich<14,>=10.14.0->streamlit) (0.1.2)\n",
      "Requirement already satisfied: six>=1.5 in c:\\users\\franc\\appdata\\local\\packages\\pythonsoftwarefoundation.python.3.11_qbz5n2kfra8p0\\localcache\\local-packages\\python311\\site-packages (from python-dateutil>=2.8.2->pandas<3,>=1.3.0->streamlit) (1.16.0)\n"
     ]
    }
   ],
   "source": [
    "pip install streamlit"
   ]
  },
  {
   "cell_type": "code",
   "execution_count": 30,
   "metadata": {},
   "outputs": [],
   "source": [
    "import streamlit as st "
   ]
  },
  {
   "cell_type": "code",
   "execution_count": 32,
   "metadata": {},
   "outputs": [
    {
     "name": "stdout",
     "output_type": "stream",
     "text": [
      "Collecting plotly.expressNote: you may need to restart the kernel to use updated packages.\n",
      "\n",
      "  Using cached plotly_express-0.4.1-py2.py3-none-any.whl.metadata (1.7 kB)\n",
      "Requirement already satisfied: pandas>=0.20.0 in c:\\users\\franc\\appdata\\local\\packages\\pythonsoftwarefoundation.python.3.11_qbz5n2kfra8p0\\localcache\\local-packages\\python311\\site-packages (from plotly.express) (2.2.2)\n",
      "Requirement already satisfied: plotly>=4.1.0 in c:\\users\\franc\\appdata\\local\\packages\\pythonsoftwarefoundation.python.3.11_qbz5n2kfra8p0\\localcache\\local-packages\\python311\\site-packages (from plotly.express) (5.22.0)\n",
      "Requirement already satisfied: statsmodels>=0.9.0 in c:\\users\\franc\\appdata\\local\\packages\\pythonsoftwarefoundation.python.3.11_qbz5n2kfra8p0\\localcache\\local-packages\\python311\\site-packages (from plotly.express) (0.14.2)\n",
      "Requirement already satisfied: scipy>=0.18 in c:\\users\\franc\\appdata\\local\\packages\\pythonsoftwarefoundation.python.3.11_qbz5n2kfra8p0\\localcache\\local-packages\\python311\\site-packages (from plotly.express) (1.13.1)\n",
      "Requirement already satisfied: patsy>=0.5 in c:\\users\\franc\\appdata\\local\\packages\\pythonsoftwarefoundation.python.3.11_qbz5n2kfra8p0\\localcache\\local-packages\\python311\\site-packages (from plotly.express) (0.5.6)\n",
      "Requirement already satisfied: numpy>=1.11 in c:\\users\\franc\\appdata\\local\\packages\\pythonsoftwarefoundation.python.3.11_qbz5n2kfra8p0\\localcache\\local-packages\\python311\\site-packages (from plotly.express) (1.26.4)\n",
      "Requirement already satisfied: python-dateutil>=2.8.2 in c:\\users\\franc\\appdata\\local\\packages\\pythonsoftwarefoundation.python.3.11_qbz5n2kfra8p0\\localcache\\local-packages\\python311\\site-packages (from pandas>=0.20.0->plotly.express) (2.9.0.post0)\n",
      "Requirement already satisfied: pytz>=2020.1 in c:\\users\\franc\\appdata\\local\\packages\\pythonsoftwarefoundation.python.3.11_qbz5n2kfra8p0\\localcache\\local-packages\\python311\\site-packages (from pandas>=0.20.0->plotly.express) (2024.1)\n",
      "Requirement already satisfied: tzdata>=2022.7 in c:\\users\\franc\\appdata\\local\\packages\\pythonsoftwarefoundation.python.3.11_qbz5n2kfra8p0\\localcache\\local-packages\\python311\\site-packages (from pandas>=0.20.0->plotly.express) (2024.1)\n",
      "Requirement already satisfied: six in c:\\users\\franc\\appdata\\local\\packages\\pythonsoftwarefoundation.python.3.11_qbz5n2kfra8p0\\localcache\\local-packages\\python311\\site-packages (from patsy>=0.5->plotly.express) (1.16.0)\n",
      "Requirement already satisfied: tenacity>=6.2.0 in c:\\users\\franc\\appdata\\local\\packages\\pythonsoftwarefoundation.python.3.11_qbz5n2kfra8p0\\localcache\\local-packages\\python311\\site-packages (from plotly>=4.1.0->plotly.express) (8.3.0)\n",
      "Requirement already satisfied: packaging in c:\\users\\franc\\appdata\\local\\packages\\pythonsoftwarefoundation.python.3.11_qbz5n2kfra8p0\\localcache\\local-packages\\python311\\site-packages (from plotly>=4.1.0->plotly.express) (24.0)\n",
      "Using cached plotly_express-0.4.1-py2.py3-none-any.whl (2.9 kB)\n",
      "Installing collected packages: plotly.express\n",
      "Successfully installed plotly.express-0.4.1\n"
     ]
    }
   ],
   "source": [
    "pip install plotly.express"
   ]
  }
 ],
 "metadata": {
  "kernelspec": {
   "display_name": "Python 3",
   "language": "python",
   "name": "python3"
  },
  "language_info": {
   "codemirror_mode": {
    "name": "ipython",
    "version": 3
   },
   "file_extension": ".py",
   "mimetype": "text/x-python",
   "name": "python",
   "nbconvert_exporter": "python",
   "pygments_lexer": "ipython3",
   "version": "3.11.9"
  }
 },
 "nbformat": 4,
 "nbformat_minor": 2
}
